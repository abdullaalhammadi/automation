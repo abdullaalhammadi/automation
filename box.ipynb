{
 "cells": [
  {
   "cell_type": "code",
   "execution_count": 130,
   "metadata": {},
   "outputs": [
    {
     "data": {
      "text/plain": [
       "┌──────────────────┬──────────┬────────────┐\n",
       "│       name       │ position │ tot_points │\n",
       "│     varchar      │ varchar  │   int128   │\n",
       "├──────────────────┼──────────┼────────────┤\n",
       "│ Mohamed Salah    │ MID      │         59 │\n",
       "│ Ollie Watkins    │ FWD      │         59 │\n",
       "│ Joachim Andersen │ DEF      │         51 │\n",
       "└──────────────────┴──────────┴────────────┘"
      ]
     },
     "execution_count": 130,
     "metadata": {},
     "output_type": "execute_result"
    }
   ],
   "source": [
    "import pandas as pd\n",
    "import duckdb\n",
    "import string\n",
    "\n",
    "data = (pd.read_csv('merged_gw.csv')\n",
    "        .drop(columns = \"kickoff_time\"))\n",
    "\n",
    "duckdb.sql('''with init as (\n",
    "  \n",
    "  select *, rank() over(partition by position order by tot_points desc) as rank\n",
    "           \n",
    "        from (\n",
    "        select name, position, sum(total_points) as tot_points\n",
    "        \n",
    "        from data\n",
    "           \n",
    "        group by name, position\n",
    "        order by name, position)\n",
    "           \n",
    "           order by tot_points desc\n",
    "  )\n",
    "  \n",
    "  select name, position, tot_points\n",
    "  \n",
    "  from init\n",
    "  \n",
    "  where rank = 1\n",
    "  and position != 'GK';\n",
    "           ''')"
   ]
  },
  {
   "cell_type": "code",
   "execution_count": 144,
   "metadata": {},
   "outputs": [],
   "source": [
    "import pandas as pd\n",
    "import duckdb\n",
    "import string\n",
    "\n",
    "data = (pd.read_csv('merged_gw.csv')\n",
    "        .drop(columns = \"kickoff_time\"))\n",
    "\n",
    "indicators = pd.read_json('queries.json')\n",
    "\n",
    "with pd.ExcelWriter(\"FPL.xlsx\", engine='openpyxl', mode='a', if_sheet_exists='overlay') as writer:\n",
    "        \n",
    "        for index, row in indicators.iterrows():\n",
    "                num = 0\n",
    "                for c in row[\"startcol\"]:\n",
    "                        if c in string.ascii_letters:\n",
    "                                num = num * 26 + (ord(c.upper()) - ord('A'))\n",
    "                \n",
    "                result = (duckdb.sql(row[\"query\"])\n",
    "                          .to_df())\n",
    "                \n",
    "                result.to_excel(writer, index=False,\n",
    "                                startcol=num,\n",
    "                                startrow=row[\"startrow\"]-1,\n",
    "                                header=False)"
   ]
  },
  {
   "cell_type": "code",
   "execution_count": 110,
   "metadata": {},
   "outputs": [
    {
     "name": "stdout",
     "output_type": "stream",
     "text": [
      "              team     1     2     3     4     5      6     7     8\n",
      "0          Arsenal  42.0  58.0  36.0  53.0  65.0   31.0  89.0  61.0\n",
      "1      Aston Villa  20.0  88.0  58.0  17.0  46.0   60.0  66.0  35.0\n",
      "2      Bournemouth  32.0  37.0  19.0  36.0  56.0   24.0  17.0  19.0\n",
      "3        Brentford  38.0  76.0  37.0  42.0  21.0   30.0  36.0  28.0\n",
      "4         Brighton  58.0  59.0  31.0  52.0  55.0   47.0  13.0  36.0\n",
      "5          Burnley  19.0   NaN  28.0  25.0  31.0   27.0  64.0  21.0\n",
      "6          Chelsea  37.0  20.0  80.0  23.0  49.0   24.0  68.0  52.0\n",
      "7   Crystal Palace  61.0  22.0  36.0  44.0  26.0   50.0  63.0  54.0\n",
      "8          Everton  24.0  10.0  23.0  34.0  26.0   51.0  27.0  74.0\n",
      "9           Fulham  60.0  18.0  35.0  23.0  64.0   53.0  18.0  45.0\n",
      "10       Liverpool  33.0  44.0  38.0  78.0  46.0   53.0  21.0  37.0\n",
      "11           Luton  27.0   NaN  19.0  32.0  25.0   37.0  67.0  25.0\n",
      "12        Man City  76.0  59.0  41.0  68.0  54.0   60.0  23.0  27.0\n",
      "13         Man Utd  63.0  19.0  43.0  28.0  29.0   62.0  24.0  43.0\n",
      "14       Newcastle  64.0  21.0  31.0  24.0  58.0  119.0  71.0  33.0\n",
      "15   Nott'm Forest  29.0  45.0  31.0  65.0  34.0   11.0  33.0  47.0\n",
      "16   Sheffield Utd  26.0  22.0  26.0  32.0  30.0    2.0  21.0  20.0\n",
      "17           Spurs  38.0  68.0  69.0  64.0  41.0   34.0  37.0  60.0\n",
      "18        West Ham  35.0  56.0  48.0  48.0  29.0   28.0  74.0  35.0\n",
      "19          Wolves  24.0  17.0  60.0  36.0  26.0   30.0  37.0  32.0\n",
      "  position   1   2   3   4   5   6   7   8\n",
      "0      DEF  14  11  17  12  11  18  15  15\n",
      "1      FWD  13  11  11  20   9   9  23  13\n",
      "2       GK  12  11  11   8  10  10   9   9\n",
      "3      MID  13  16  19  20  13  14  17  16\n",
      "               name position  tot_points\n",
      "0     Mohamed Salah      MID        59.0\n",
      "1     Ollie Watkins      FWD        59.0\n",
      "2  Joachim Andersen      DEF        51.0\n"
     ]
    }
   ],
   "source": [
    "for index, row in indicators.iterrows():\n",
    "    result = duckdb.sql(row[\"query\"]).to_df()\n",
    "    print(result)\n",
    "\n",
    "    "
   ]
  },
  {
   "cell_type": "code",
   "execution_count": 145,
   "metadata": {},
   "outputs": [
    {
     "name": "stdout",
     "output_type": "stream",
     "text": [
      "2\n",
      "12\n",
      "2\n"
     ]
    }
   ],
   "source": [
    "for index, row in indicators.iterrows():\n",
    "        num = 0\n",
    "        for c in row[\"startcol\"]:\n",
    "                if c in string.ascii_letters:\n",
    "                        num = num * 26 + (ord(c.upper()) - ord('A')) + 1\n",
    "        \n",
    "        print(num)"
   ]
  }
 ],
 "metadata": {
  "kernelspec": {
   "display_name": "Python 3",
   "language": "python",
   "name": "python3"
  },
  "language_info": {
   "codemirror_mode": {
    "name": "ipython",
    "version": 3
   },
   "file_extension": ".py",
   "mimetype": "text/x-python",
   "name": "python",
   "nbconvert_exporter": "python",
   "pygments_lexer": "ipython3",
   "version": "3.10.5"
  },
  "orig_nbformat": 4
 },
 "nbformat": 4,
 "nbformat_minor": 2
}
